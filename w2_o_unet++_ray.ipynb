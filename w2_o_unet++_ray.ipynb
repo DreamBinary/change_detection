{
 "cells": [
  {
   "cell_type": "code",
   "execution_count": 1,
   "metadata": {
    "ExecuteTime": {
     "end_time": "2023-05-08T21:40:04.270034Z",
     "start_time": "2023-05-08T21:40:04.249913Z"
    },
    "execution": {
     "iopub.execute_input": "2023-05-08T14:21:47.760790Z",
     "iopub.status.busy": "2023-05-08T14:21:47.760401Z",
     "iopub.status.idle": "2023-05-08T14:21:47.765595Z",
     "shell.execute_reply": "2023-05-08T14:21:47.764737Z",
     "shell.execute_reply.started": "2023-05-08T14:21:47.760705Z"
    },
    "tags": []
   },
   "outputs": [],
   "source": [
    "# !pip install segmentation_models_pytorch\n",
    "# !pip install ray[tune]"
   ]
  },
  {
   "cell_type": "code",
   "execution_count": 2,
   "metadata": {
    "ExecuteTime": {
     "end_time": "2023-05-08T21:40:04.296612Z",
     "start_time": "2023-05-08T21:40:04.261970Z"
    },
    "collapsed": false,
    "execution": {
     "iopub.execute_input": "2023-05-08T14:21:47.768537Z",
     "iopub.status.busy": "2023-05-08T14:21:47.768100Z",
     "iopub.status.idle": "2023-05-08T14:21:50.590647Z",
     "shell.execute_reply": "2023-05-08T14:21:50.589469Z",
     "shell.execute_reply.started": "2023-05-08T14:21:47.768498Z"
    },
    "jupyter": {
     "outputs_hidden": false
    }
   },
   "outputs": [],
   "source": [
    "import torch.nn as nn\n",
    "from torchvision import transforms\n",
    "from torch.utils.data import DataLoader\n",
    "import torch\n",
    "from mydataset import MyDataset\n",
    "from torch.cuda.amp import autocast\n",
    "from data_augmentation import RandomRotation, RandomVerticalFlip, RandomHorizontalFlip, Compose, ToTensor\n",
    "import segmentation_models_pytorch as smp\n",
    "from ray import tune\n",
    "from ray.air import session\n",
    "from ray.air.checkpoint import Checkpoint\n",
    "from ray.tune.schedulers import ASHAScheduler\n",
    "import os"
   ]
  },
  {
   "cell_type": "code",
   "execution_count": 3,
   "metadata": {
    "collapsed": false,
    "execution": {
     "iopub.execute_input": "2023-05-08T14:21:50.592013Z",
     "iopub.status.busy": "2023-05-08T14:21:50.591763Z",
     "iopub.status.idle": "2023-05-08T14:21:50.595694Z",
     "shell.execute_reply": "2023-05-08T14:21:50.594876Z",
     "shell.execute_reply.started": "2023-05-08T14:21:50.591993Z"
    },
    "jupyter": {
     "outputs_hidden": false
    }
   },
   "outputs": [],
   "source": [
    "import warnings\n",
    "\n",
    "warnings.filterwarnings(\"ignore\")"
   ]
  },
  {
   "cell_type": "code",
   "execution_count": 4,
   "metadata": {
    "ExecuteTime": {
     "end_time": "2023-05-08T21:46:39.365992Z",
     "start_time": "2023-05-08T21:46:39.321975Z"
    },
    "collapsed": false,
    "execution": {
     "iopub.execute_input": "2023-05-08T14:21:50.597276Z",
     "iopub.status.busy": "2023-05-08T14:21:50.596712Z",
     "iopub.status.idle": "2023-05-08T14:21:50.613188Z",
     "shell.execute_reply": "2023-05-08T14:21:50.612372Z",
     "shell.execute_reply.started": "2023-05-08T14:21:50.597258Z"
    },
    "jupyter": {
     "outputs_hidden": false
    }
   },
   "outputs": [],
   "source": [
    "batch_size = 100\n",
    "\n",
    "data_dir = os.path.abspath(\"data\")\n",
    "\n",
    "train_set = MyDataset(root=data_dir, is_train=True, transform=Compose([\n",
    "    ToTensor(),\n",
    "    RandomHorizontalFlip(),\n",
    "    RandomVerticalFlip(),\n",
    "    RandomRotation([0, 90, 180, 270]),\n",
    "]), normalize=transforms.Normalize((0.485, 0.456, 0.406), (0.229, 0.224, 0.225)))\n",
    "\n",
    "val_set = MyDataset(root=data_dir, is_train=False, transform=Compose([ToTensor()]),\n",
    "                    normalize=transforms.Normalize((0.485, 0.456, 0.406), (0.229, 0.224, 0.225)))\n",
    "\n",
    "train_loader = DataLoader(\n",
    "    train_set,\n",
    "    batch_size=batch_size,\n",
    "    shuffle=True,\n",
    "    num_workers=24\n",
    ")\n",
    "\n",
    "val_loader = DataLoader(\n",
    "    val_set,\n",
    "    batch_size=batch_size,\n",
    "    shuffle=False,\n",
    "    num_workers=24\n",
    ")"
   ]
  },
  {
   "cell_type": "code",
   "execution_count": 5,
   "metadata": {
    "ExecuteTime": {
     "end_time": "2023-05-08T21:46:39.725199Z",
     "start_time": "2023-05-08T21:46:39.629038Z"
    },
    "execution": {
     "iopub.execute_input": "2023-05-08T14:21:50.614171Z",
     "iopub.status.busy": "2023-05-08T14:21:50.614001Z",
     "iopub.status.idle": "2023-05-08T14:21:50.618710Z",
     "shell.execute_reply": "2023-05-08T14:21:50.617913Z",
     "shell.execute_reply.started": "2023-05-08T14:21:50.614156Z"
    },
    "tags": []
   },
   "outputs": [],
   "source": [
    "def get_index(pred, label):\n",
    "    eps = 1e-7\n",
    "    tp = torch.sum(label * pred)\n",
    "    fp = torch.sum(pred) - tp\n",
    "    fn = torch.sum(label) - tp\n",
    "\n",
    "    p = (tp + eps) / (tp + fp + eps)\n",
    "    r = (tp + eps) / (tp + fn + eps)\n",
    "    f1 = (2 * p * r + eps) / (p + r + eps)\n",
    "    iou = (tp + eps) / (tp + fn + fp + eps)\n",
    "    return p, r, f1, iou"
   ]
  },
  {
   "cell_type": "code",
   "execution_count": 6,
   "metadata": {
    "ExecuteTime": {
     "end_time": "2023-05-08T21:46:39.963251Z",
     "start_time": "2023-05-08T21:46:39.861434Z"
    },
    "execution": {
     "iopub.execute_input": "2023-05-08T14:21:50.620538Z",
     "iopub.status.busy": "2023-05-08T14:21:50.620357Z",
     "iopub.status.idle": "2023-05-08T14:21:50.629488Z",
     "shell.execute_reply": "2023-05-08T14:21:50.628701Z",
     "shell.execute_reply.started": "2023-05-08T14:21:50.620523Z"
    },
    "tags": []
   },
   "outputs": [],
   "source": [
    "def train_tune(config):\n",
    "    model = smp.UnetPlusPlus(\n",
    "        encoder_name=\"resnet34\",\n",
    "        encoder_weights=\"imagenet\",\n",
    "        in_channels=6,\n",
    "        classes=2,\n",
    "    )\n",
    "    criterion = nn.CrossEntropyLoss()\n",
    "    optim = torch.optim.AdamW(model.parameters(), lr=config[\"lr\"], weight_decay=1e-9)\n",
    "    scaler = torch.cuda.amp.GradScaler(enabled=True)\n",
    "\n",
    "    # To restore a checkpoint, use `session.get_checkpoint()`.\n",
    "    loaded_checkpoint = session.get_checkpoint()\n",
    "    if loaded_checkpoint:\n",
    "        with loaded_checkpoint.as_directory() as loaded_checkpoint_dir:\n",
    "            model_state, optimizer_state = torch.load(os.path.join(loaded_checkpoint_dir, \"checkpoint.pt\"))\n",
    "        model.load_state_dict(model_state)\n",
    "        optim.load_state_dict(optimizer_state)\n",
    "    model.cuda()\n",
    "    num_epoch = 10\n",
    "\n",
    "    def train_model():\n",
    "        model.train()\n",
    "        for img1, img2, mask in train_loader:\n",
    "            img1, img2, mask = img1.cuda(), img2.cuda(), mask.cuda()\n",
    "            optim.zero_grad()\n",
    "            mask = mask.long()\n",
    "            with autocast():\n",
    "                img = torch.cat((img1, img2), 1)\n",
    "                outputs = model(img)\n",
    "                mask = mask.squeeze(1)\n",
    "                loss = criterion(outputs, mask)\n",
    "            scaler.scale(loss).backward()\n",
    "            scaler.step(optim)\n",
    "            scaler.update()\n",
    "            # _, pred = torch.max(outputs.data, 1)\n",
    "            # p, r, f1, iou = get_index(pred, mask)\n",
    "\n",
    "    def test_model():\n",
    "        model.eval()\n",
    "        f1s = 0\n",
    "        with torch.no_grad():\n",
    "            for img1, img2, mask in val_loader:\n",
    "                img1, img2, mask = img1.cuda(), img2.cuda(), mask.cuda()\n",
    "                img = torch.cat((img1, img2), 1)\n",
    "                outputs = model(img)\n",
    "                _, pred = torch.max(outputs.data, 1)\n",
    "                mask = mask.squeeze(1)\n",
    "                p, r, f1, iou = get_index(pred, mask)\n",
    "                f1s += f1\n",
    "        f1s /= len(val_loader)\n",
    "        # Here we save a checkpoint. It is automatically registered with\n",
    "        # Ray Tune and can be accessed through `session.get_checkpoint()`\n",
    "        # API in future iterations.\n",
    "        os.makedirs(\"my_model\", exist_ok=True)\n",
    "        torch.save((model.state_dict(), optim.state_dict()), \"my_model/checkpoint.pt\")\n",
    "        checkpoint = Checkpoint.from_directory(\"my_model\")\n",
    "        session.report({\"f1_score\": f1s.item()}, checkpoint=checkpoint)\n",
    "\n",
    "    for epoch in range(0, num_epoch):\n",
    "        train_model()\n",
    "        test_model()\n",
    "\n",
    "    print(config[\"lr\"], \" -------- completed!\")"
   ]
  },
  {
   "cell_type": "code",
   "execution_count": 7,
   "metadata": {
    "ExecuteTime": {
     "end_time": "2023-05-08T21:46:40.072088Z",
     "start_time": "2023-05-08T21:46:39.980648Z"
    },
    "execution": {
     "iopub.execute_input": "2023-05-08T14:21:50.630380Z",
     "iopub.status.busy": "2023-05-08T14:21:50.630221Z",
     "iopub.status.idle": "2023-05-08T14:21:50.635449Z",
     "shell.execute_reply": "2023-05-08T14:21:50.634646Z",
     "shell.execute_reply.started": "2023-05-08T14:21:50.630366Z"
    },
    "tags": []
   },
   "outputs": [],
   "source": [
    "def main(num_samples=10, max_num_epochs=10):\n",
    "    config = {\n",
    "        \"lr\": tune.loguniform(1e-4, 1e-1),\n",
    "    }\n",
    "    scheduler = ASHAScheduler(\n",
    "        max_t=max_num_epochs,\n",
    "        grace_period=1,\n",
    "        reduction_factor=2,\n",
    "    )\n",
    "\n",
    "    tuner = tune.Tuner(\n",
    "        tune.with_resources(\n",
    "            tune.with_parameters(train_tune),\n",
    "            resources={\"cpu\": 24, \"gpu\": 1}\n",
    "        ),\n",
    "        tune_config=tune.TuneConfig(\n",
    "            metric=\"f1_score\",\n",
    "            mode=\"max\",\n",
    "            scheduler=scheduler,\n",
    "            num_samples=num_samples,\n",
    "        ),\n",
    "        param_space=config,\n",
    "    )\n",
    "\n",
    "    results = tuner.fit()\n",
    "    best_result = results.get_best_result(\"f1_score\", \"max\")\n",
    "\n",
    "    print(\"Best trial config: {}\".format(best_result.config))\n",
    "    print(\"Best trial final f1_score: {}\".format(\n",
    "        best_result.metrics[\"f1_score\"]))\n"
   ]
  },
  {
   "cell_type": "code",
   "execution_count": 8,
   "metadata": {
    "execution": {
     "iopub.execute_input": "2023-05-08T14:21:50.636614Z",
     "iopub.status.busy": "2023-05-08T14:21:50.636432Z",
     "iopub.status.idle": "2023-05-08T14:56:17.540770Z",
     "shell.execute_reply": "2023-05-08T14:56:17.540106Z",
     "shell.execute_reply.started": "2023-05-08T14:21:50.636598Z"
    },
    "tags": []
   },
   "outputs": [
    {
     "name": "stderr",
     "output_type": "stream",
     "text": [
      "2023-05-08 14:21:52,293\tINFO worker.py:1625 -- Started a local Ray instance.\n",
      "2023-05-08 14:21:53,199\tINFO tune.py:218 -- Initializing Ray automatically. For cluster usage or custom Ray initialization, call `ray.init(...)` before `Tuner(...)`.\n"
     ]
    },
    {
     "data": {
      "text/html": [
       "<div class=\"tuneStatus\">\n",
       "  <div style=\"display: flex;flex-direction: row\">\n",
       "    <div style=\"display: flex;flex-direction: column;\">\n",
       "      <h3>Tune Status</h3>\n",
       "      <table>\n",
       "<tbody>\n",
       "<tr><td>Current time:</td><td>2023-05-08 14:56:17</td></tr>\n",
       "<tr><td>Running for: </td><td>00:34:24.22        </td></tr>\n",
       "<tr><td>Memory:      </td><td>6.8/29.3 GiB       </td></tr>\n",
       "</tbody>\n",
       "</table>\n",
       "    </div>\n",
       "    <div class=\"vDivider\"></div>\n",
       "    <div class=\"systemInfo\">\n",
       "      <h3>System Info</h3>\n",
       "      Using AsyncHyperBand: num_stopped=10<br>Bracket: Iter 8.000: 0.8767912980012342 | Iter 4.000: 0.8092787564457264 | Iter 2.000: 0.7816586758394982 | Iter 1.000: 0.6350942592737804<br>Logical resource usage: 0/24 CPUs, 0/1 GPUs (0.0/1.0 accelerator_type:G)\n",
       "    </div>\n",
       "    \n",
       "  </div>\n",
       "  <div class=\"hDivider\"></div>\n",
       "  <div class=\"trialStatus\">\n",
       "    <h3>Trial Status</h3>\n",
       "    <table>\n",
       "<thead>\n",
       "<tr><th>Trial name            </th><th>status    </th><th>loc              </th><th style=\"text-align: right;\">         lr</th><th style=\"text-align: right;\">  iter</th><th style=\"text-align: right;\">  total time (s)</th><th style=\"text-align: right;\">  f1_score</th></tr>\n",
       "</thead>\n",
       "<tbody>\n",
       "<tr><td>train_tune_adfc8_00000</td><td>TERMINATED</td><td>10.110.3.60:18529</td><td style=\"text-align: right;\">0.000878598</td><td style=\"text-align: right;\">    10</td><td style=\"text-align: right;\">        445.054 </td><td style=\"text-align: right;\">  0.835072</td></tr>\n",
       "<tr><td>train_tune_adfc8_00001</td><td>TERMINATED</td><td>10.110.3.60:18529</td><td style=\"text-align: right;\">0.000261386</td><td style=\"text-align: right;\">    10</td><td style=\"text-align: right;\">        446.552 </td><td style=\"text-align: right;\">  0.889191</td></tr>\n",
       "<tr><td>train_tune_adfc8_00002</td><td>TERMINATED</td><td>10.110.3.60:18529</td><td style=\"text-align: right;\">0.00314686 </td><td style=\"text-align: right;\">     1</td><td style=\"text-align: right;\">         45.378 </td><td style=\"text-align: right;\">  0.571029</td></tr>\n",
       "<tr><td>train_tune_adfc8_00003</td><td>TERMINATED</td><td>10.110.3.60:18529</td><td style=\"text-align: right;\">0.0008969  </td><td style=\"text-align: right;\">     2</td><td style=\"text-align: right;\">         92.2786</td><td style=\"text-align: right;\">  0.692513</td></tr>\n",
       "<tr><td>train_tune_adfc8_00004</td><td>TERMINATED</td><td>10.110.3.60:18529</td><td style=\"text-align: right;\">0.00017914 </td><td style=\"text-align: right;\">    10</td><td style=\"text-align: right;\">        447.808 </td><td style=\"text-align: right;\">  0.894567</td></tr>\n",
       "<tr><td>train_tune_adfc8_00005</td><td>TERMINATED</td><td>10.110.3.60:18529</td><td style=\"text-align: right;\">0.000111051</td><td style=\"text-align: right;\">     8</td><td style=\"text-align: right;\">        359.963 </td><td style=\"text-align: right;\">  0.87454 </td></tr>\n",
       "<tr><td>train_tune_adfc8_00006</td><td>TERMINATED</td><td>10.110.3.60:18529</td><td style=\"text-align: right;\">0.00676385 </td><td style=\"text-align: right;\">     1</td><td style=\"text-align: right;\">         43.8079</td><td style=\"text-align: right;\">  0.531785</td></tr>\n",
       "<tr><td>train_tune_adfc8_00007</td><td>TERMINATED</td><td>10.110.3.60:18529</td><td style=\"text-align: right;\">0.0268289  </td><td style=\"text-align: right;\">     1</td><td style=\"text-align: right;\">         44.263 </td><td style=\"text-align: right;\">  0.381449</td></tr>\n",
       "<tr><td>train_tune_adfc8_00008</td><td>TERMINATED</td><td>10.110.3.60:18529</td><td style=\"text-align: right;\">0.000182723</td><td style=\"text-align: right;\">     2</td><td style=\"text-align: right;\">         89.5578</td><td style=\"text-align: right;\">  0.766983</td></tr>\n",
       "<tr><td>train_tune_adfc8_00009</td><td>TERMINATED</td><td>10.110.3.60:18529</td><td style=\"text-align: right;\">0.0498112  </td><td style=\"text-align: right;\">     1</td><td style=\"text-align: right;\">         45.6962</td><td style=\"text-align: right;\">  0.496408</td></tr>\n",
       "</tbody>\n",
       "</table>\n",
       "  </div>\n",
       "</div>\n",
       "<style>\n",
       ".tuneStatus {\n",
       "  color: var(--jp-ui-font-color1);\n",
       "}\n",
       ".tuneStatus .systemInfo {\n",
       "  display: flex;\n",
       "  flex-direction: column;\n",
       "}\n",
       ".tuneStatus td {\n",
       "  white-space: nowrap;\n",
       "}\n",
       ".tuneStatus .trialStatus {\n",
       "  display: flex;\n",
       "  flex-direction: column;\n",
       "}\n",
       ".tuneStatus h3 {\n",
       "  font-weight: bold;\n",
       "}\n",
       ".tuneStatus .hDivider {\n",
       "  border-bottom-width: var(--jp-border-width);\n",
       "  border-bottom-color: var(--jp-border-color0);\n",
       "  border-bottom-style: solid;\n",
       "}\n",
       ".tuneStatus .vDivider {\n",
       "  border-left-width: var(--jp-border-width);\n",
       "  border-left-color: var(--jp-border-color0);\n",
       "  border-left-style: solid;\n",
       "  margin: 0.5em 1em 0.5em 1em;\n",
       "}\n",
       "</style>\n"
      ],
      "text/plain": [
       "<IPython.core.display.HTML object>"
      ]
     },
     "metadata": {},
     "output_type": "display_data"
    },
    {
     "data": {
      "text/html": [
       "<div class=\"trialProgress\">\n",
       "  <h3>Trial Progress</h3>\n",
       "  <table>\n",
       "<thead>\n",
       "<tr><th>Trial name            </th><th>date               </th><th>done  </th><th style=\"text-align: right;\">  f1_score</th><th>hostname             </th><th style=\"text-align: right;\">  iterations_since_restore</th><th>node_ip    </th><th style=\"text-align: right;\">  pid</th><th>should_checkpoint  </th><th style=\"text-align: right;\">  time_since_restore</th><th style=\"text-align: right;\">  time_this_iter_s</th><th style=\"text-align: right;\">  time_total_s</th><th style=\"text-align: right;\">  timestamp</th><th style=\"text-align: right;\">  training_iteration</th><th>trial_id   </th></tr>\n",
       "</thead>\n",
       "<tbody>\n",
       "<tr><td>train_tune_adfc8_00000</td><td>2023-05-08_14-29-21</td><td>True  </td><td style=\"text-align: right;\">  0.835072</td><td>fiv-991tkrr6l4t9-main</td><td style=\"text-align: right;\">                        10</td><td>10.110.3.60</td><td style=\"text-align: right;\">18529</td><td>True               </td><td style=\"text-align: right;\">            445.054 </td><td style=\"text-align: right;\">           44.2231</td><td style=\"text-align: right;\">      445.054 </td><td style=\"text-align: right;\"> 1683556161</td><td style=\"text-align: right;\">                  10</td><td>adfc8_00000</td></tr>\n",
       "<tr><td>train_tune_adfc8_00001</td><td>2023-05-08_14-36-48</td><td>True  </td><td style=\"text-align: right;\">  0.889191</td><td>fiv-991tkrr6l4t9-main</td><td style=\"text-align: right;\">                        10</td><td>10.110.3.60</td><td style=\"text-align: right;\">18529</td><td>True               </td><td style=\"text-align: right;\">            446.552 </td><td style=\"text-align: right;\">           44.7243</td><td style=\"text-align: right;\">      446.552 </td><td style=\"text-align: right;\"> 1683556608</td><td style=\"text-align: right;\">                  10</td><td>adfc8_00001</td></tr>\n",
       "<tr><td>train_tune_adfc8_00002</td><td>2023-05-08_14-37-33</td><td>True  </td><td style=\"text-align: right;\">  0.571029</td><td>fiv-991tkrr6l4t9-main</td><td style=\"text-align: right;\">                         1</td><td>10.110.3.60</td><td style=\"text-align: right;\">18529</td><td>True               </td><td style=\"text-align: right;\">             45.378 </td><td style=\"text-align: right;\">           45.378 </td><td style=\"text-align: right;\">       45.378 </td><td style=\"text-align: right;\"> 1683556653</td><td style=\"text-align: right;\">                   1</td><td>adfc8_00002</td></tr>\n",
       "<tr><td>train_tune_adfc8_00003</td><td>2023-05-08_14-39-06</td><td>True  </td><td style=\"text-align: right;\">  0.692513</td><td>fiv-991tkrr6l4t9-main</td><td style=\"text-align: right;\">                         2</td><td>10.110.3.60</td><td style=\"text-align: right;\">18529</td><td>True               </td><td style=\"text-align: right;\">             92.2786</td><td style=\"text-align: right;\">           46.437 </td><td style=\"text-align: right;\">       92.2786</td><td style=\"text-align: right;\"> 1683556746</td><td style=\"text-align: right;\">                   2</td><td>adfc8_00003</td></tr>\n",
       "<tr><td>train_tune_adfc8_00004</td><td>2023-05-08_14-46-34</td><td>True  </td><td style=\"text-align: right;\">  0.894567</td><td>fiv-991tkrr6l4t9-main</td><td style=\"text-align: right;\">                        10</td><td>10.110.3.60</td><td style=\"text-align: right;\">18529</td><td>True               </td><td style=\"text-align: right;\">            447.808 </td><td style=\"text-align: right;\">           45.1459</td><td style=\"text-align: right;\">      447.808 </td><td style=\"text-align: right;\"> 1683557194</td><td style=\"text-align: right;\">                  10</td><td>adfc8_00004</td></tr>\n",
       "<tr><td>train_tune_adfc8_00005</td><td>2023-05-08_14-52-34</td><td>True  </td><td style=\"text-align: right;\">  0.87454 </td><td>fiv-991tkrr6l4t9-main</td><td style=\"text-align: right;\">                         8</td><td>10.110.3.60</td><td style=\"text-align: right;\">18529</td><td>True               </td><td style=\"text-align: right;\">            359.963 </td><td style=\"text-align: right;\">           45.7234</td><td style=\"text-align: right;\">      359.963 </td><td style=\"text-align: right;\"> 1683557554</td><td style=\"text-align: right;\">                   8</td><td>adfc8_00005</td></tr>\n",
       "<tr><td>train_tune_adfc8_00006</td><td>2023-05-08_14-53-17</td><td>True  </td><td style=\"text-align: right;\">  0.531785</td><td>fiv-991tkrr6l4t9-main</td><td style=\"text-align: right;\">                         1</td><td>10.110.3.60</td><td style=\"text-align: right;\">18529</td><td>True               </td><td style=\"text-align: right;\">             43.8079</td><td style=\"text-align: right;\">           43.8079</td><td style=\"text-align: right;\">       43.8079</td><td style=\"text-align: right;\"> 1683557597</td><td style=\"text-align: right;\">                   1</td><td>adfc8_00006</td></tr>\n",
       "<tr><td>train_tune_adfc8_00007</td><td>2023-05-08_14-54-02</td><td>True  </td><td style=\"text-align: right;\">  0.381449</td><td>fiv-991tkrr6l4t9-main</td><td style=\"text-align: right;\">                         1</td><td>10.110.3.60</td><td style=\"text-align: right;\">18529</td><td>True               </td><td style=\"text-align: right;\">             44.263 </td><td style=\"text-align: right;\">           44.263 </td><td style=\"text-align: right;\">       44.263 </td><td style=\"text-align: right;\"> 1683557642</td><td style=\"text-align: right;\">                   1</td><td>adfc8_00007</td></tr>\n",
       "<tr><td>train_tune_adfc8_00008</td><td>2023-05-08_14-55-31</td><td>True  </td><td style=\"text-align: right;\">  0.766983</td><td>fiv-991tkrr6l4t9-main</td><td style=\"text-align: right;\">                         2</td><td>10.110.3.60</td><td style=\"text-align: right;\">18529</td><td>True               </td><td style=\"text-align: right;\">             89.5578</td><td style=\"text-align: right;\">           45.271 </td><td style=\"text-align: right;\">       89.5578</td><td style=\"text-align: right;\"> 1683557731</td><td style=\"text-align: right;\">                   2</td><td>adfc8_00008</td></tr>\n",
       "<tr><td>train_tune_adfc8_00009</td><td>2023-05-08_14-56-17</td><td>True  </td><td style=\"text-align: right;\">  0.496408</td><td>fiv-991tkrr6l4t9-main</td><td style=\"text-align: right;\">                         1</td><td>10.110.3.60</td><td style=\"text-align: right;\">18529</td><td>True               </td><td style=\"text-align: right;\">             45.6962</td><td style=\"text-align: right;\">           45.6962</td><td style=\"text-align: right;\">       45.6962</td><td style=\"text-align: right;\"> 1683557777</td><td style=\"text-align: right;\">                   1</td><td>adfc8_00009</td></tr>\n",
       "</tbody>\n",
       "</table>\n",
       "</div>\n",
       "<style>\n",
       ".trialProgress {\n",
       "  display: flex;\n",
       "  flex-direction: column;\n",
       "  color: var(--jp-ui-font-color1);\n",
       "}\n",
       ".trialProgress h3 {\n",
       "  font-weight: bold;\n",
       "}\n",
       ".trialProgress td {\n",
       "  white-space: nowrap;\n",
       "}\n",
       "</style>\n"
      ],
      "text/plain": [
       "<IPython.core.display.HTML object>"
      ]
     },
     "metadata": {},
     "output_type": "display_data"
    },
    {
     "name": "stderr",
     "output_type": "stream",
     "text": [
      "2023-05-08 14:56:17,502\tINFO tune.py:945 -- Total run time: 2064.30 seconds (2064.21 seconds for the tuning loop).\n"
     ]
    },
    {
     "name": "stdout",
     "output_type": "stream",
     "text": [
      "Best trial config: {'lr': 0.0001791403737353412}\n",
      "Best trial final f1_score: 0.8945671461454585\n"
     ]
    }
   ],
   "source": [
    "main()"
   ]
  },
  {
   "cell_type": "code",
   "execution_count": null,
   "metadata": {},
   "outputs": [],
   "source": []
  },
  {
   "cell_type": "code",
   "execution_count": null,
   "metadata": {
    "collapsed": false,
    "jupyter": {
     "outputs_hidden": false
    }
   },
   "outputs": [],
   "source": []
  },
  {
   "cell_type": "code",
   "execution_count": null,
   "metadata": {
    "collapsed": false,
    "jupyter": {
     "outputs_hidden": false
    }
   },
   "outputs": [],
   "source": []
  }
 ],
 "metadata": {
  "kernelspec": {
   "display_name": "Python 3 (ipykernel)",
   "language": "python",
   "name": "python3"
  },
  "language_info": {
   "codemirror_mode": {
    "name": "ipython",
    "version": 3
   },
   "file_extension": ".py",
   "mimetype": "text/x-python",
   "name": "python",
   "nbconvert_exporter": "python",
   "pygments_lexer": "ipython3",
   "version": "3.8.13"
  }
 },
 "nbformat": 4,
 "nbformat_minor": 4
}
