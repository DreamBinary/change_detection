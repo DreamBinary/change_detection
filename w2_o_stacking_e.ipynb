{
 "cells": [
  {
   "cell_type": "code",
   "execution_count": null,
   "metadata": {
    "execution": {
     "iopub.execute_input": "2023-03-08T12:16:37.075292Z",
     "iopub.status.busy": "2023-03-08T12:16:37.075045Z",
     "iopub.status.idle": "2023-03-08T12:16:44.469387Z",
     "shell.execute_reply": "2023-03-08T12:16:44.468353Z",
     "shell.execute_reply.started": "2023-03-08T12:16:37.075231Z"
    },
    "ExecuteTime": {
     "start_time": "2023-04-24T16:47:09.055732Z",
     "end_time": "2023-04-24T16:47:09.065882Z"
    }
   },
   "outputs": [],
   "source": [
    "# !pip install segmentation_models_pytorch"
   ]
  },
  {
   "cell_type": "code",
   "execution_count": null,
   "metadata": {
    "execution": {
     "iopub.execute_input": "2023-03-08T12:16:44.472120Z",
     "iopub.status.busy": "2023-03-08T12:16:44.471775Z",
     "iopub.status.idle": "2023-03-08T12:16:46.703653Z",
     "shell.execute_reply": "2023-03-08T12:16:46.703000Z",
     "shell.execute_reply.started": "2023-03-08T12:16:44.472081Z"
    },
    "tags": [],
    "ExecuteTime": {
     "start_time": "2023-04-24T16:47:09.065882Z",
     "end_time": "2023-04-24T16:47:17.018122Z"
    }
   },
   "outputs": [],
   "source": [
    "import torch.nn as nn\n",
    "from torchvision import transforms\n",
    "from torch.utils.data import DataLoader\n",
    "import torch\n",
    "from mydataset2 import MyDataset\n",
    "from tqdm import tqdm\n",
    "from torch.cuda.amp import autocast\n",
    "import segmentation_models_pytorch as smp\n",
    "from data_augmentation import RandomRotation, RandomVerticalFlip, RandomHorizontalFlip, Compose, ToTensor"
   ]
  },
  {
   "cell_type": "code",
   "execution_count": null,
   "metadata": {
    "execution": {
     "iopub.execute_input": "2023-03-08T12:16:46.704682Z",
     "iopub.status.busy": "2023-03-08T12:16:46.704473Z",
     "iopub.status.idle": "2023-03-08T12:16:46.707889Z",
     "shell.execute_reply": "2023-03-08T12:16:46.707475Z",
     "shell.execute_reply.started": "2023-03-08T12:16:46.704662Z"
    },
    "ExecuteTime": {
     "start_time": "2023-04-24T16:47:17.018122Z",
     "end_time": "2023-04-24T16:47:17.030727Z"
    }
   },
   "outputs": [],
   "source": [
    "batch_size = 1"
   ]
  },
  {
   "cell_type": "code",
   "execution_count": null,
   "metadata": {
    "execution": {
     "iopub.execute_input": "2023-03-08T12:16:46.708827Z",
     "iopub.status.busy": "2023-03-08T12:16:46.708672Z",
     "iopub.status.idle": "2023-03-08T12:16:46.733425Z",
     "shell.execute_reply": "2023-03-08T12:16:46.733060Z",
     "shell.execute_reply.started": "2023-03-08T12:16:46.708813Z"
    },
    "ExecuteTime": {
     "start_time": "2023-04-24T16:47:17.037737Z",
     "end_time": "2023-04-24T16:47:17.088187Z"
    }
   },
   "outputs": [],
   "source": [
    "train_set = MyDataset(root=\"data\", is_train=True, transform=Compose([\n",
    "    ToTensor(),\n",
    "    RandomHorizontalFlip(),\n",
    "    RandomVerticalFlip(),\n",
    "    RandomRotation([0, 90, 180, 270]),\n",
    "]), normalize=transforms.Normalize((0.485, 0.456, 0.406), (0.229, 0.224, 0.225)))\n",
    "\n",
    "val_set = MyDataset(root=\"data\", is_train=False, transform=Compose([ToTensor()]),\n",
    "                    normalize=transforms.Normalize((0.485, 0.456, 0.406), (0.229, 0.224, 0.225)))\n",
    "\n",
    "train_loader = DataLoader(\n",
    "    train_set,\n",
    "    batch_size=batch_size,\n",
    "    shuffle=True,\n",
    "    num_workers=0\n",
    ")\n",
    "\n",
    "val_loader = DataLoader(\n",
    "    val_set,\n",
    "    batch_size=batch_size,\n",
    "    shuffle=False,\n",
    "    num_workers=0\n",
    ")\n",
    "len(train_set), len(val_set), len(train_loader), len(val_loader)"
   ]
  },
  {
   "cell_type": "code",
   "execution_count": null,
   "metadata": {
    "execution": {
     "iopub.execute_input": "2023-03-08T12:16:46.734148Z",
     "iopub.status.busy": "2023-03-08T12:16:46.733994Z",
     "iopub.status.idle": "2023-03-08T12:16:49.619618Z",
     "shell.execute_reply": "2023-03-08T12:16:49.618879Z",
     "shell.execute_reply.started": "2023-03-08T12:16:46.734133Z"
    },
    "tags": [],
    "ExecuteTime": {
     "start_time": "2023-04-24T16:47:17.088187Z",
     "end_time": "2023-04-24T16:47:17.811164Z"
    }
   },
   "outputs": [],
   "source": [
    "model0 = smp.FPN(\n",
    "    in_channels=6,\n",
    "    classes=2,\n",
    ")\n",
    "model0.cuda()\n",
    "criterion0 = nn.CrossEntropyLoss()\n",
    "optim0 = torch.optim.AdamW(model0.parameters(), lr=0.0001, weight_decay=1e-9)\n",
    "scaler0 = torch.cuda.amp.GradScaler(enabled=True)"
   ]
  },
  {
   "cell_type": "code",
   "execution_count": null,
   "metadata": {
    "execution": {
     "iopub.execute_input": "2023-03-08T12:16:49.620720Z",
     "iopub.status.busy": "2023-03-08T12:16:49.620554Z",
     "iopub.status.idle": "2023-03-08T12:16:50.004681Z",
     "shell.execute_reply": "2023-03-08T12:16:50.004045Z",
     "shell.execute_reply.started": "2023-03-08T12:16:49.620704Z"
    },
    "ExecuteTime": {
     "start_time": "2023-04-24T16:47:17.815170Z",
     "end_time": "2023-04-24T16:47:18.357191Z"
    }
   },
   "outputs": [],
   "source": [
    "model1 = smp.DeepLabV3Plus(\n",
    "    in_channels=6,\n",
    "    classes=2,\n",
    ")\n",
    "model1.cuda()\n",
    "criterion1 = nn.CrossEntropyLoss()\n",
    "optim1 = torch.optim.AdamW(model1.parameters(), lr=0.0001, weight_decay=1e-9)\n",
    "scaler1 = torch.cuda.amp.GradScaler(enabled=True)"
   ]
  },
  {
   "cell_type": "code",
   "execution_count": null,
   "metadata": {
    "execution": {
     "iopub.execute_input": "2023-03-08T12:16:50.006454Z",
     "iopub.status.busy": "2023-03-08T12:16:50.006279Z",
     "iopub.status.idle": "2023-03-08T12:16:50.405517Z",
     "shell.execute_reply": "2023-03-08T12:16:50.404870Z",
     "shell.execute_reply.started": "2023-03-08T12:16:50.006430Z"
    },
    "ExecuteTime": {
     "start_time": "2023-04-24T16:47:18.357191Z",
     "end_time": "2023-04-24T16:47:18.965921Z"
    }
   },
   "outputs": [],
   "source": [
    "model2 = smp.UnetPlusPlus(\n",
    "    in_channels=6,\n",
    "    classes=2,\n",
    ")\n",
    "model2.cuda()\n",
    "criterion2 = nn.CrossEntropyLoss()\n",
    "optim2 = torch.optim.AdamW(model2.parameters(), lr=0.0001, weight_decay=1e-9)\n",
    "scaler2 = torch.cuda.amp.GradScaler(enabled=True)"
   ]
  },
  {
   "cell_type": "code",
   "execution_count": null,
   "outputs": [],
   "source": [
    "class MetaModel(nn.Module):\n",
    "    def __init__(self):\n",
    "        super(MetaModel, self).__init__()\n",
    "        self.l1 = nn.Linear(6, 16)\n",
    "        self.l2 = nn.Linear(16, 2)\n",
    "\n",
    "    def forward(self, x):\n",
    "        x = x.view((-1, 6, 256, 256))\n",
    "        x = x.permute((0, 2, 3, 1))\n",
    "        x = torch.relu(self.l1(x))\n",
    "        x = self.l2(x)\n",
    "        x = x.permute((0, 3, 1, 2))\n",
    "        return x\n"
   ],
   "metadata": {
    "collapsed": false,
    "ExecuteTime": {
     "start_time": "2023-04-24T16:47:18.968936Z",
     "end_time": "2023-04-24T16:47:18.981984Z"
    }
   }
  },
  {
   "cell_type": "code",
   "execution_count": null,
   "outputs": [],
   "source": [
    "class Stacking(nn.Module):\n",
    "    def __init__(self, base_models, meta_model):\n",
    "        super(Stacking, self).__init__()\n",
    "        self.base_models = nn.ModuleList(base_models)\n",
    "        self.meta_model = meta_model\n",
    "\n",
    "    def forward(self, x):\n",
    "        outputs = torch.zeros(100, 2, 256, 256)\n",
    "        for model in self.base_models:\n",
    "            output = model(x)\n",
    "            outputs = torch.add(outputs, output)\n",
    "        # x = self.meta_model(x)\n",
    "        return outputs"
   ],
   "metadata": {
    "collapsed": false,
    "ExecuteTime": {
     "start_time": "2023-04-24T16:47:18.981984Z",
     "end_time": "2023-04-24T16:47:19.008817Z"
    }
   }
  },
  {
   "cell_type": "code",
   "execution_count": null,
   "metadata": {
    "execution": {
     "iopub.execute_input": "2023-03-08T12:16:50.406479Z",
     "iopub.status.busy": "2023-03-08T12:16:50.406299Z",
     "iopub.status.idle": "2023-03-08T12:16:50.409759Z",
     "shell.execute_reply": "2023-03-08T12:16:50.409322Z",
     "shell.execute_reply.started": "2023-03-08T12:16:50.406462Z"
    },
    "ExecuteTime": {
     "start_time": "2023-04-24T16:47:18.997810Z",
     "end_time": "2023-04-24T16:47:19.011952Z"
    }
   },
   "outputs": [],
   "source": [
    "# models = [model0, model1, model2]\n",
    "# criterions = [criterion0, criterion1, criterion2]\n",
    "# scalers = [scaler0, scaler1, scaler2]\n",
    "# optims = [optim0, optim1, optim2]\n",
    "#\n",
    "# metamodel = MetaModel()\n",
    "# metamodel.cuda()\n",
    "# meta_criterion = nn.CrossEntropyLoss()\n",
    "# meta_optim = torch.optim.AdamW(metamodel.parameters(), lr=0.001, weight_decay=1e-9)\n",
    "# meta_scaler = torch.cuda.amp.GradScaler(enabled=True)"
   ]
  },
  {
   "cell_type": "code",
   "execution_count": null,
   "outputs": [],
   "source": [
    "metamodel = MetaModel()\n",
    "metamodel.cuda()\n",
    "model = Stacking(\n",
    "    [model0, model1, model2], metamodel\n",
    ")\n",
    "criterion = nn.CrossEntropyLoss()\n",
    "optim = torch.optim.AdamW(metamodel.parameters(), lr=0.001, weight_decay=1e-9)\n",
    "scheduler = torch.optim.lr_scheduler.ReduceLROnPlateau(\n",
    "    optim, mode='max', factor=0.1, patience=2,\n",
    "    verbose=True)\n",
    "scaler = torch.cuda.amp.GradScaler(enabled=True)"
   ],
   "metadata": {
    "collapsed": false,
    "ExecuteTime": {
     "start_time": "2023-04-24T16:47:19.011952Z",
     "end_time": "2023-04-24T16:47:19.037254Z"
    }
   }
  },
  {
   "cell_type": "code",
   "execution_count": null,
   "outputs": [],
   "source": [
    "def train_model(epoch):\n",
    "    model.train()\n",
    "    print(f\"Epoch {epoch} Training\")\n",
    "    with tqdm(train_loader, desc=str(epoch)) as it:\n",
    "        for img, mask in it:\n",
    "            img, mask = img.cuda(), mask.cuda()\n",
    "            optim.zero_grad()\n",
    "            mask = mask.long()\n",
    "            with autocast():\n",
    "                outputs = model(img)\n",
    "                mask = mask.squeeze(1)\n",
    "                loss = criterion(outputs, mask)\n",
    "            # loss.backward()\n",
    "            # optim.step()\n",
    "            scaler.scale(loss).backward()\n",
    "            scaler.step(optim)\n",
    "            scaler.update()\n",
    "            #print(outputs.data.shape)\n",
    "            _, pred = torch.max(outputs.data, 1)\n",
    "            #print(pred.shape)\n",
    "            p, r, f1, iou = get_index(pred, mask)\n",
    "            it.set_postfix_str(f\"loss: {loss.item(): .4f} p: {p: .4f}  r: {r: .4f}  f1: {f1: .4f}  iou: {iou: .4f}\")"
   ],
   "metadata": {
    "collapsed": false,
    "ExecuteTime": {
     "start_time": "2023-04-24T16:49:48.531123Z",
     "end_time": "2023-04-24T16:49:48.574835Z"
    }
   }
  },
  {
   "cell_type": "code",
   "execution_count": null,
   "metadata": {
    "execution": {
     "iopub.execute_input": "2023-03-08T12:16:50.417473Z",
     "iopub.status.busy": "2023-03-08T12:16:50.417318Z",
     "iopub.status.idle": "2023-03-08T12:16:50.423747Z",
     "shell.execute_reply": "2023-03-08T12:16:50.423333Z",
     "shell.execute_reply.started": "2023-03-08T12:16:50.417458Z"
    },
    "tags": [],
    "ExecuteTime": {
     "start_time": "2023-04-24T16:49:48.863919Z",
     "end_time": "2023-04-24T16:49:48.890570Z"
    }
   },
   "outputs": [],
   "source": [
    "def get_index(pred, label):\n",
    "    eps = 1e-7\n",
    "    tp = torch.sum(label * pred)\n",
    "    fp = torch.sum(pred) - tp\n",
    "    fn = torch.sum(label) - tp\n",
    "\n",
    "    p = (tp + eps) / (tp + fp + eps)\n",
    "    r = (tp + eps) / (tp + fn + eps)\n",
    "    f1 = (2 * p * r + eps) / (p + r + eps)\n",
    "    iou = (tp + eps) / (tp + fn + fp + eps)\n",
    "    return p, r, f1, iou\n",
    "\n",
    "\n",
    "def test_model(epoch):\n",
    "    model.eval()\n",
    "    global max_score\n",
    "    f1s = 0\n",
    "    print(f\"Epoch {epoch} Testing\")\n",
    "    with torch.no_grad():\n",
    "        with tqdm(val_loader, desc=str(epoch)) as it:\n",
    "            for img, mask in it:\n",
    "                img, mask = img.cuda(), mask.cuda()\n",
    "                outputs = model(img)\n",
    "                _, pred = torch.max(outputs.data, 1)\n",
    "                mask = mask.squeeze(1)\n",
    "                p, r, f1, iou = get_index(pred, mask)\n",
    "                f1s += f1\n",
    "                it.set_postfix_str(f\"p: {p: .4f}  r: {r: .4f}  f1: {f1: .4f}  iou: {iou: .4f}\")\n",
    "    f1s /= len(val_loader)\n",
    "    scheduler.step(f1s)\n",
    "    print(\"f1\", f1s.item())\n",
    "    if max_score < f1s:\n",
    "        max_score = f1s\n",
    "        print('max_score', max_score.item())"
   ]
  },
  {
   "cell_type": "code",
   "execution_count": null,
   "metadata": {
    "execution": {
     "iopub.execute_input": "2023-03-08T12:16:50.424454Z",
     "iopub.status.busy": "2023-03-08T12:16:50.424300Z",
     "iopub.status.idle": "2023-03-08T12:33:40.213917Z",
     "shell.execute_reply": "2023-03-08T12:33:40.212961Z",
     "shell.execute_reply.started": "2023-03-08T12:16:50.424439Z"
    },
    "tags": []
   },
   "outputs": [],
   "source": [
    "num_epoch = 10\n",
    "max_score = 0\n",
    "for epoch in range(0, num_epoch):\n",
    "    train_model(epoch=epoch)\n",
    "    test_model(epoch=epoch)\n",
    "print(\"completed!\")\n",
    "print('max_score', max_score.item())"
   ]
  },
  {
   "cell_type": "code",
   "execution_count": null,
   "metadata": {
    "tags": []
   },
   "outputs": [],
   "source": []
  },
  {
   "cell_type": "code",
   "execution_count": null,
   "metadata": {},
   "outputs": [],
   "source": []
  },
  {
   "cell_type": "code",
   "execution_count": null,
   "metadata": {},
   "outputs": [],
   "source": []
  }
 ],
 "metadata": {
  "kernelspec": {
   "display_name": "Python 3 (ipykernel)",
   "language": "python",
   "name": "python3"
  },
  "language_info": {
   "codemirror_mode": {
    "name": "ipython",
    "version": 3
   },
   "file_extension": ".py",
   "mimetype": "text/x-python",
   "name": "python",
   "nbconvert_exporter": "python",
   "pygments_lexer": "ipython3",
   "version": "3.8.13"
  }
 },
 "nbformat": 4,
 "nbformat_minor": 4
}
